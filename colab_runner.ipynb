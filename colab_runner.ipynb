{
  "cells": [
    {
      "cell_type": "markdown",
      "metadata": {
        "id": "sSMgSkVpfL0_"
      },
      "source": [
        "# AML 2023/2024 Egocentric Vision Project"
      ]
    },
    {
      "cell_type": "markdown",
      "metadata": {
        "id": "meGiaUV0fL1D"
      },
      "source": [
        "#Setup"
      ]
    },
    {
      "cell_type": "code",
      "execution_count": null,
      "metadata": {
        "colab": {
          "base_uri": "https://localhost:8080/"
        },
        "id": "OCDn1EjWfL1F",
        "outputId": "67d32ab2-7c23-4112-f503-b5afadaa8f4d"
      },
      "outputs": [],
      "source": [
        "# Installing missing dependencies\n",
        "!pip install omegaconf coloredlogs wandb\n",
        "!pip install -U matplotlib"
      ]
    },
    {
      "cell_type": "markdown",
      "metadata": {
        "id": "I-NkG6fvGZpS"
      },
      "source": [
        "##Download code"
      ]
    },
    {
      "cell_type": "code",
      "execution_count": null,
      "metadata": {
        "colab": {
          "base_uri": "https://localhost:8080/"
        },
        "id": "IvQ0DxNWfL1E",
        "outputId": "07820dd4-a8d2-4b66-9788-49a197be07c9"
      },
      "outputs": [
        {
          "name": "stdout",
          "output_type": "stream",
          "text": [
            "Cloning into 'aml23-ego'...\n",
            "remote: Enumerating objects: 895, done.\u001b[K\n",
            "remote: Counting objects: 100% (235/235), done.\u001b[K\n",
            "remote: Compressing objects: 100% (165/165), done.\u001b[K\n",
            "remote: Total 895 (delta 130), reused 164 (delta 70), pack-reused 660\u001b[K\n",
            "Receiving objects: 100% (895/895), 358.88 MiB | 21.42 MiB/s, done.\n",
            "Resolving deltas: 100% (456/456), done.\n",
            "Updating files: 100% (72/72), done.\n"
          ]
        }
      ],
      "source": [
        "# Clone the public repository (or your repository)\n",
        "!rm -rf FER24\n",
        "!git clone https://github.com/LeleFox/Multimodal-Egocentric-Action-Recognition-2024.git FER24"
      ]
    },
    {
      "cell_type": "code",
      "execution_count": null,
      "metadata": {
        "colab": {
          "base_uri": "https://localhost:8080/"
        },
        "id": "9CI3JU5xfL1H",
        "outputId": "21500d37-d19a-4799-a2b6-f41887739e92"
      },
      "outputs": [
        {
          "name": "stdout",
          "output_type": "stream",
          "text": [
            "Mounted at /content/drive/\n"
          ]
        }
      ],
      "source": [
        "# Mount google drive\n",
        "from google.colab import drive\n",
        "drive.mount(\"/content/drive/\", force_remount=True)"
      ]
    },
    {
      "cell_type": "markdown",
      "metadata": {
        "id": "ZSODeq0t_30h"
      },
      "source": [
        "#Cald3R and MenD3s Datasets"
      ]
    },
    {
      "cell_type": "markdown",
      "metadata": {
        "id": "75d11xMcKC2c"
      },
      "source": [
        "##Load Data from all the datasets in directory \"Datasets\"\n"
      ]
    },
    {
      "cell_type": "code",
      "execution_count": null,
      "metadata": {
        "colab": {
          "base_uri": "https://localhost:8080/"
        },
        "id": "dd3MgG6jfL1H",
        "outputId": "60b0a32c-200e-4711-b36c-dafe66fd8ced"
      },
      "outputs": [
        {
          "name": "stdout",
          "output_type": "stream",
          "text": [
            "Process is interrupted.\n"
          ]
        }
      ],
      "source": [
        "%%bash\n",
        "\n",
        "# As read and write operations from google drive are slow, we suggest to copy and unzip\n",
        "# the dataset in a local directory on the Colab's machine.\n",
        "mkdir -p Datasets/\n",
        "\n",
        "# Copy the *.zip files of Epic-Kitchens\n",
        "cp /content/drive/MyDrive/AML/FER_2024/Datasets/CalD3r/*.zip ./Datasets/\n",
        "\n",
        "# Unzip\n",
        "for file in ./Datasets/*.zip; do\n",
        "  fn=$(basename $file)\n",
        "  fn=${fn/.zip/}\n",
        "  ls -lah $file\n",
        "  mkdir -p Datasets/$fn\n",
        "  unzip -q -j $file -d Datasets/$fn\n",
        "done"
      ]
    },
    {
      "cell_type": "markdown",
      "metadata": {
        "id": "MA1INs-OfL1I"
      },
      "source": [
        "## Dataset Analysis"
      ]
    },
    {
      "cell_type": "code",
      "execution_count": null,
      "metadata": {},
      "outputs": [],
      "source": [
        "##example images of rgb, depth , point cloud, mesh"
      ]
    },
    {
      "cell_type": "markdown",
      "metadata": {
        "id": "qaoMDOWGu664"
      },
      "source": [
        "##Classes Distribution"
      ]
    },
    {
      "cell_type": "markdown",
      "metadata": {
        "id": "Uj0EWjDEKqSY"
      },
      "source": [
        "##Classifiers"
      ]
    },
    {
      "cell_type": "code",
      "execution_count": null,
      "metadata": {
        "colab": {
          "base_uri": "https://localhost:8080/"
        },
        "id": "IUB3ckYJKySZ",
        "outputId": "61fca2ea-b264-444f-f717-28cfd0aa3c95"
      },
      "outputs": [],
      "source": [
        "%%bash\n",
        "\n",
        "cd FER24\n",
        "\n",
        "python train_classifier.py\\\n",
        "  config=configs/default.yaml\\\n",
        "  action=train\\\n",
        "  name=LSTM_1layers_5clips_16frames_dense_04dropout_NormalizeFalse_LogitsAverage\\\n",
        "  modality=\"['RGB','D']\"\\\n",
        "  dataset.name='CalD3r_MenD3s'\\\n",
        "  dataset.annotations_path=Datasets\\\n",
        "  dataset.RGB.data_path=../ek_data/frames\\\n",
        "  dataset.DEPTH.data_path=True\\\n",
        "  models.RGB.model=CNN_RGB\\\n",
        "  models.RGB.dropout=0.4\\\n",
        "  models.RGB.normalize=False\\\n",
        "  models.DEPTH.model=DEPTH_CNN\\\n",
        "  models.DEPTH.dropout=0.4\\\n",
        "  models.DEPTH.normalize=False\\\n",
        "  models.MESH.model=MESH_CNN\\\n",
        "  models.MESH.dropout=0.4\\\n",
        "  models.MESH.normalize=False\\\n",
        "  models.VOXEL.model=VOXEL_CNN\\\n",
        "  models.VOXEL.dropout=0.4\\\n",
        "  models.VOXEL.normalize=False\\\n"
      ]
    },
    {
      "cell_type": "code",
      "execution_count": null,
      "metadata": {
        "id": "FF2vl0-M262B"
      },
      "outputs": [],
      "source": [
        "#save the Experiment_logs\n",
        "!cp \"FER24/Experiment_logs/LSTM_EMG_04dropout_NormalizeFalse/\" -r \"/content/drive/MyDrive/AML/AML_Project_2024/saved_models/Action-Net/Unimodal_EMG/\""
      ]
    },
    {
      "cell_type": "markdown",
      "metadata": {},
      "source": [
        "SAVE THE FEATURE OUTPUTS FOR EACH NETWORK: LOGIT_CONCAT_FUSION , FEATURE_CONCAT_FUSION, Attention_FUSION, VOXEL, MESH"
      ]
    },
    {
      "cell_type": "markdown",
      "metadata": {
        "id": "JIiv76aUGAWd"
      },
      "source": [
        "##Extracted Features Analysis\n"
      ]
    }
  ],
  "metadata": {
    "accelerator": "GPU",
    "colab": {
      "collapsed_sections": [
        "ZSODeq0t_30h",
        "75d11xMcKC2c",
        "qaoMDOWGu664",
        "Uj0EWjDEKqSY",
        "_45nNl1CKLxq",
        "JIiv76aUGAWd",
        "OfZ4v3f2fteF"
      ],
      "provenance": []
    },
    "kernelspec": {
      "display_name": "Python 3",
      "name": "python3"
    },
    "language_info": {
      "codemirror_mode": {
        "name": "ipython",
        "version": 3
      },
      "file_extension": ".py",
      "mimetype": "text/x-python",
      "name": "python",
      "nbconvert_exporter": "python",
      "pygments_lexer": "ipython3",
      "version": "3.7.13"
    },
    "vscode": {
      "interpreter": {
        "hash": "2fc1f0eeae38a5df67b0f713e03196095ce1bfa55aa551576e8e58c2ba904c5a"
      }
    }
  },
  "nbformat": 4,
  "nbformat_minor": 0
}
