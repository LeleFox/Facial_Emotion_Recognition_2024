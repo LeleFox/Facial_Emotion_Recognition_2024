{
  "cells": [
    {
      "cell_type": "markdown",
      "metadata": {
        "id": "sSMgSkVpfL0_"
      },
      "source": [
        "# FER_2024"
      ]
    },
    {
      "cell_type": "markdown",
      "metadata": {
        "id": "meGiaUV0fL1D"
      },
      "source": [
        "## Setup"
      ]
    },
    {
      "cell_type": "code",
      "execution_count": null,
      "metadata": {
        "id": "OCDn1EjWfL1F"
      },
      "outputs": [],
      "source": [
        "# Installing missing dependencies\n",
        "!pip install omegaconf coloredlogs wandb\n",
        "!pip install -U matplotlib"
      ]
    },
    {
      "cell_type": "markdown",
      "metadata": {
        "id": "I-NkG6fvGZpS"
      },
      "source": [
        "## Download code"
      ]
    },
    {
      "cell_type": "code",
      "execution_count": null,
      "metadata": {
        "id": "IvQ0DxNWfL1E"
      },
      "outputs": [],
      "source": [
        "# Clone the public repository (or your repository)\n",
        "!rm -rf FER24\n",
        "!git clone https://github.com/LeleFox/Facial_Emotion_Recognition_2024.git FER24"
      ]
    },
    {
      "cell_type": "code",
      "execution_count": null,
      "metadata": {
        "id": "9CI3JU5xfL1H"
      },
      "outputs": [],
      "source": [
        "# Mount google drive\n",
        "from google.colab import drive\n",
        "drive.mount(\"/content/drive/\", force_remount=True)"
      ]
    },
    {
      "cell_type": "markdown",
      "metadata": {
        "id": "75d11xMcKC2c"
      },
      "source": [
        "## Load Datasets\n"
      ]
    },
    {
      "cell_type": "code",
      "execution_count": null,
      "metadata": {
        "id": "dd3MgG6jfL1H"
      },
      "outputs": [],
      "source": [
        "%%bash\n",
        "\n",
        "# As read and write operations from google drive are slow, copy and unzip\n",
        "# the dataset in a local directory on the Colab's machine.\n",
        "rm -r Datasets/\n",
        "mkdir -p Datasets/\n",
        "\n",
        "cp /content/drive/MyDrive/AML/FER_2024/Datasets/*.zip ./Datasets/\n",
        "\n",
        "# Unzip\n",
        "for file in ./Datasets/*.zip; do\n",
        "  fn=$(basename \"$file\" .zip)\n",
        "  ls -lah \"$file\"\n",
        "  mkdir -p \"Datasets/$fn\"\n",
        "  unzip -q \"$file\" -d \"Datasets/$fn\"\n",
        "done"
      ]
    },
    {
      "cell_type": "markdown",
      "metadata": {
        "id": "MA1INs-OfL1I"
      },
      "source": [
        "## Dataset Analysis"
      ]
    },
    {
      "cell_type": "code",
      "execution_count": null,
      "metadata": {
        "id": "jpSNVq7mxCLo"
      },
      "outputs": [],
      "source": [
        "##example images of rgb, depth , point cloud, mesh"
      ]
    },
    {
      "cell_type": "markdown",
      "metadata": {
        "id": "qaoMDOWGu664"
      },
      "source": [
        "### Classes Distribution"
      ]
    },
    {
      "cell_type": "markdown",
      "metadata": {
        "id": "Uj0EWjDEKqSY"
      },
      "source": [
        "## Classifiers"
      ]
    },
    {
      "cell_type": "code",
      "execution_count": null,
      "metadata": {
        "id": "IUB3ckYJKySZ"
      },
      "outputs": [],
      "source": [
        "%%bash\n",
        "\n",
        "cd FER24\n",
        "\n",
        "python train.py\\\n",
        "  config=configs/colab_default.yaml\\\n",
        "  name=\"training\"\\\n",
        "  action=train\\\n",
        "  modality=\"['RGB','DEPTH']\"\\\n",
        "  dataset.name='CalD3r_MenD3s'\\\n",
        "  dataset.annotations_path=../Datasets\\\n",
        "  dataset.RGB.data_path=../Datasets\\\n",
        "  dataset.DEPTH.data_path=../Datasets\\\n",
        "  dataset.MESH.data_path=../Datasets\\\n",
        "  models.RGB.model=RGB_CNN\\\n",
        "  models.RGB.dropout=0.4\\\n",
        "  models.RGB.normalize=False\\\n",
        "  models.DEPTH.model=DEPTH_CNN\\\n",
        "  models.DEPTH.dropout=0.4\\\n",
        "  models.DEPTH.normalize=False\\\n",
        "  models.MESH.model=MESH_CNN\\\n",
        "  models.MESH.dropout=0.4\\\n",
        "  models.MESH.normalize=False\\\n"
      ]
    },
    {
      "cell_type": "markdown",
      "metadata": {
        "id": "U0rtZhFExCLo"
      },
      "source": [
        "SAVE THE FEATURE OUTPUTS FOR EACH NETWORK: LOGIT_CONCAT_FUSION , FEATURE_CONCAT_FUSION, Attention_FUSION, VOXEL, MESH"
      ]
    },
    {
      "cell_type": "markdown",
      "metadata": {
        "id": "JIiv76aUGAWd"
      },
      "source": [
        "## Extracted Features Analysis\n"
      ]
    }
  ],
  "metadata": {
    "accelerator": "GPU",
    "colab": {
      "collapsed_sections": [
        "qaoMDOWGu664",
        "JIiv76aUGAWd"
      ],
      "provenance": []
    },
    "kernelspec": {
      "display_name": "Python 3",
      "name": "python3"
    },
    "language_info": {
      "codemirror_mode": {
        "name": "ipython",
        "version": 3
      },
      "file_extension": ".py",
      "mimetype": "text/x-python",
      "name": "python",
      "nbconvert_exporter": "python",
      "pygments_lexer": "ipython3",
      "version": "3.7.13"
    },
    "vscode": {
      "interpreter": {
        "hash": "2fc1f0eeae38a5df67b0f713e03196095ce1bfa55aa551576e8e58c2ba904c5a"
      }
    }
  },
  "nbformat": 4,
  "nbformat_minor": 0
}